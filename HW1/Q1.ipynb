{
 "cells": [
  {
   "cell_type": "code",
   "execution_count": 1,
   "metadata": {
    "collapsed": false
   },
   "outputs": [],
   "source": [
    "import numpy as np\n",
    "import pandas as pd\n",
    "import matplotlib.pyplot as plt\n",
    "from IPython.display import Image as IPImage\n",
    "import scipy.ndimage as ndimage\n",
    "from scipy import signal, misc\n",
    "from skimage import feature\n",
    "import math"
   ]
  },
  {
   "cell_type": "code",
   "execution_count": 2,
   "metadata": {
    "collapsed": true
   },
   "outputs": [],
   "source": [
    "def showImage(im):\n",
    "    plt.clf()\n",
    "    plt.imshow(im)\n",
    "    plt.show()"
   ]
  },
  {
   "cell_type": "code",
   "execution_count": 3,
   "metadata": {
    "collapsed": false
   },
   "outputs": [],
   "source": [
    "def roundAngle(angle_array):\n",
    "    for i in range(angle_array.shape[0]):\n",
    "        for j in range(angle_array.shape[1]):\n",
    "            x = angle_array[i, j]\n",
    "            if -22.5 < x < 22.5 or x > 157.5 or x < -157.5:\n",
    "                angle_array[i, j] = 0\n",
    "            elif 22.5 <= x <= 67.5 or -157.5 <= x <= -112.5:\n",
    "                angle_array[i, j] = 45\n",
    "            elif 67.5 < x < 112.5 or -112.5 < x < -67.5:\n",
    "                angle_array[i, j] = 90\n",
    "            else:\n",
    "                angle_array[i, j] = 135\n",
    "    return angle_array\n",
    "        "
   ]
  },
  {
   "cell_type": "code",
   "execution_count": 4,
   "metadata": {
    "collapsed": false
   },
   "outputs": [],
   "source": [
    "def supressNonMax(im, thet):\n",
    "    for i in range(im.shape[0]):\n",
    "        for j in range(im.shape[1]):\n",
    "            if thet[i, j] == 0:\n",
    "                if i == 0:\n",
    "                    if im[i, j] < im[i+1, j]:\n",
    "                        im[i, j] = 0\n",
    "                elif i == im.shape[0]-1:\n",
    "                    if im[i, j] < im[i-1, j]:\n",
    "                        im[i, j] = 0\n",
    "                else:\n",
    "                    if im[i, j] < im[i-1, j] or im[i, j] < im[i+1, j]:\n",
    "                        im[i, j] = 0\n",
    "            elif thet[i, j] == 90:\n",
    "                if j == 0:\n",
    "                    if im[i, j] < im[i, j+1]:\n",
    "                        im[i, j] = 0\n",
    "                elif j == im.shape[1]-1:\n",
    "                    if im[i, j] < im[i, j-1]:\n",
    "                        im[i, j] = 0\n",
    "                else:\n",
    "                    if im[i, j] < im[i, j+1] or im[i, j] < im[i, j-1]:\n",
    "                        im[i, j] = 0\n",
    "            elif thet[i, j] == 45:\n",
    "                if i == 0:\n",
    "                    if j != 0:\n",
    "                        if im[i, j] < im[i+1, j-1]:\n",
    "                            im[i, j] = 0\n",
    "                    continue\n",
    "                if j == 0:\n",
    "                    if i != 0:\n",
    "                        if im[i, j] < im[i-1, j+1]:\n",
    "                            im[i, j] = 0\n",
    "                    continue\n",
    "                if i == im.shape[0]-1:\n",
    "                    if j != im.shape[1]-1:\n",
    "                        if im[i, j] < im[i-1, j+1]:\n",
    "                            im[i, j] = 0\n",
    "                    continue\n",
    "                if j == im.shape[1]-1:\n",
    "                    if i != im.shape[0]-1:\n",
    "                        if im[i, j] < im[i+1, j-1]:\n",
    "                            im[i, j] = 0\n",
    "                    continue\n",
    "                else:\n",
    "                    if im[i, j] < im[i-1, j+1] or im[i, j] < im[i+1, j-1]:\n",
    "                        im[i, j] = 0\n",
    "            elif thet[i, j] == 135:\n",
    "                if i == 0:\n",
    "                    if j != im.shape[1]-1:\n",
    "                        if im[i, j] < im[i+1, j+1]:\n",
    "                            im[i, j] = 0\n",
    "                    continue\n",
    "                if j == 0:\n",
    "                    if i != im.shape[0]-1:\n",
    "                        if im[i, j] < im[i+1, j+1]:\n",
    "                            im[i, j] = 0\n",
    "                    continue\n",
    "                if i == im.shape[0]-1:\n",
    "                    if j != 0:\n",
    "                        if im[i, j] < im[i-1, j-1]:\n",
    "                            im[i, j] = 0\n",
    "                    continue\n",
    "                if j == im.shape[1]-1:\n",
    "                    if i != 0:\n",
    "                        if im[i, j] < im[i-1, j-1]:\n",
    "                            im[i, j] = 0\n",
    "                    continue\n",
    "                else:\n",
    "                    if im[i, j] < im[i-1, j-1] or im[i, j] < im[i+1, j+1]:\n",
    "                        im[i, j] = 0\n",
    "\n",
    "    return im\n",
    "            "
   ]
  },
  {
   "cell_type": "code",
   "execution_count": 5,
   "metadata": {
    "collapsed": true
   },
   "outputs": [],
   "source": [
    "def thresholding(im, high):\n",
    "    for i in range(im.shape[0]):\n",
    "        for j in range(im.shape[1]):\n",
    "            x = im[i, j]\n",
    "            if x > high:\n",
    "                im[i, j] = 1\n",
    "            else:\n",
    "                im[i, j] = 0\n",
    "    return im\n",
    "    "
   ]
  },
  {
   "cell_type": "code",
   "execution_count": 6,
   "metadata": {
    "collapsed": true
   },
   "outputs": [],
   "source": [
    "filename = 'MoonCraters.jpg'\n",
    "name = 'moon'"
   ]
  },
  {
   "cell_type": "code",
   "execution_count": 7,
   "metadata": {
    "collapsed": false
   },
   "outputs": [],
   "source": [
    "actual_image = misc.imread(filename, True)\n",
    "image = misc.imread(filename, True)\n",
    "blurred_image = ndimage.gaussian_filter(image, sigma=1)"
   ]
  },
  {
   "cell_type": "code",
   "execution_count": 8,
   "metadata": {
    "collapsed": false
   },
   "outputs": [
    {
     "data": {
      "text/plain": [
       "(512, 512)"
      ]
     },
     "execution_count": 8,
     "metadata": {},
     "output_type": "execute_result"
    }
   ],
   "source": [
    "image.shape"
   ]
  },
  {
   "cell_type": "code",
   "execution_count": 9,
   "metadata": {
    "collapsed": true
   },
   "outputs": [],
   "source": [
    "sobel_x = np.array([[-1, 0,  1], [-2, 0, 2], [-1, 0,  1]])\n",
    "sobel_y = np.array([[1, 2,  1], [0, 0, 0], [-1, -2,  -1]])"
   ]
  },
  {
   "cell_type": "code",
   "execution_count": 10,
   "metadata": {
    "collapsed": false
   },
   "outputs": [],
   "source": [
    "image_gx = signal.convolve2d(blurred_image, sobel_x, mode='same', boundary='symm')\n",
    "image_gy = signal.convolve2d(blurred_image, sobel_y, mode='same', boundary='symm')"
   ]
  },
  {
   "cell_type": "code",
   "execution_count": 11,
   "metadata": {
    "collapsed": false
   },
   "outputs": [
    {
     "data": {
      "text/plain": [
       "(512, 512)"
      ]
     },
     "execution_count": 11,
     "metadata": {},
     "output_type": "execute_result"
    }
   ],
   "source": [
    "image_gx.shape"
   ]
  },
  {
   "cell_type": "code",
   "execution_count": 12,
   "metadata": {
    "collapsed": true
   },
   "outputs": [],
   "source": [
    "image_gradient = np.sqrt(np.multiply(image_gx, image_gx) + np.multiply(image_gy, image_gy))\n",
    "image_theta = np.arctan2(image_gx, image_gy) * 180 / np.pi"
   ]
  },
  {
   "cell_type": "code",
   "execution_count": 13,
   "metadata": {
    "collapsed": false
   },
   "outputs": [],
   "source": [
    "round_theta = np.copy(image_theta)\n",
    "round_theta = roundAngle(round_theta)"
   ]
  },
  {
   "cell_type": "code",
   "execution_count": 14,
   "metadata": {
    "collapsed": false
   },
   "outputs": [],
   "source": [
    "image_suppressed = np.copy(image_gradient)\n",
    "image_suppressed = supressNonMax(image_suppressed, round_theta)"
   ]
  },
  {
   "cell_type": "code",
   "execution_count": 15,
   "metadata": {
    "collapsed": false
   },
   "outputs": [],
   "source": [
    "image_all_edge = np.copy(image_suppressed)\n",
    "image_all_edge = thresholding(image_all_edge, 0)\n",
    "misc.imsave(name + '_all.jpg', image_all_edge)"
   ]
  },
  {
   "cell_type": "code",
   "execution_count": 16,
   "metadata": {
    "collapsed": true
   },
   "outputs": [],
   "source": [
    "# threshold = 1.33*np.median(image)\n",
    "threshold =1.33*np.median(image_suppressed[image_suppressed != 0])\n",
    "image_thresholded = np.copy(image_suppressed)\n",
    "image_thresholded = thresholding(image_thresholded, threshold)\n",
    "misc.imsave(name + '_threshold.jpg', image_thresholded)\n",
    "# showImage(image_thresholded)"
   ]
  },
  {
   "cell_type": "code",
   "execution_count": 54,
   "metadata": {
    "collapsed": true
   },
   "outputs": [],
   "source": [
    "def roundSingleAngle(single_angle):\n",
    "    if -22.5 < single_angle < 22.5 or single_angle > 157.5 or single_angle < -157.5:\n",
    "        return 0\n",
    "    elif 22.5 <= single_angle <= 67.5 or -157.5 <= single_angle <= -112.5:\n",
    "        return 135\n",
    "    elif 67.5 < single_angle < 112.5 or -112.5 < single_angle < -67.5:\n",
    "        return 90\n",
    "    else:\n",
    "        return 45\n"
   ]
  },
  {
   "cell_type": "code",
   "execution_count": 69,
   "metadata": {
    "collapsed": false
   },
   "outputs": [],
   "source": [
    "def hough(im, r, thet):\n",
    "#     plt.clf() # clear the figure\n",
    "    hough_bins = np.zeros((im.shape[0], im.shape[1]))\n",
    "    for x in range(im.shape[0]):\n",
    "        for y in range(im.shape[1]):\n",
    "            if im[x,y] == 1:\n",
    "#                 hough_x = ([])\n",
    "#                 hough_y = ([])\n",
    "                for x0 in range(im.shape[0]):\n",
    "                    if r*r - (x-x0)*(x-x0) < 0:\n",
    "                        continue\n",
    "                    y0 = y - math.sqrt(r*r - (x-x0)*(x-x0))\n",
    "                    if x0 == 69 and int(round(y0)) == 246:\n",
    "                        angle = roundSingleAngle(math.atan2((y0-y), (x0-x)) * 180 / math.pi)\n",
    "                        print [angle, thet[x, y]]\n",
    "                    hough_bins[x0, int(round(y0))] = hough_bins[x0, int(round(y0))] + 1\n",
    "#                     hough_x = np.append(hough_x, x0)\n",
    "#                     hough_y = np.append(hough_y, y0)\n",
    "#                 p = np.polyfit(hough_x,hough_y,2)\n",
    "#                 plt.plot(hough_x,np.polyval(p,hough_x),'r-')\n",
    "#     plt.show()\n",
    "    return hough_bins"
   ]
  },
  {
   "cell_type": "code",
   "execution_count": 70,
   "metadata": {
    "collapsed": false
   },
   "outputs": [
    {
     "name": "stdout",
     "output_type": "stream",
     "text": [
      "[45, 45.0]\n",
      "[45, 45.0]\n",
      "[45, 45.0]\n",
      "[45, 45.0]\n",
      "[45, 45.0]\n",
      "[45, 90.0]\n",
      "[45, 90.0]\n",
      "[90, 135.0]\n",
      "[90, 90.0]\n",
      "[90, 90.0]\n",
      "[90, 90.0]\n",
      "[90, 90.0]\n",
      "[90, 90.0]\n",
      "[135, 45.0]\n",
      "[135, 135.0]\n",
      "[135, 135.0]\n",
      "[135, 0.0]\n",
      "[135, 135.0]\n",
      "[135, 135.0]\n",
      "[0, 135.0]\n"
     ]
    }
   ],
   "source": [
    "hb = hough(image_thresholded, 20, round_theta)"
   ]
  },
  {
   "cell_type": "code",
   "execution_count": 19,
   "metadata": {
    "collapsed": true
   },
   "outputs": [],
   "source": [
    "def storeBestCircle(hough, number):\n",
    "    bestCircles = ([])\n",
    "    \n",
    "    for x in range(number):\n",
    "        loc = np.where(hough == hough.max())\n",
    "        circle = [loc[1][0], loc[0][0]]\n",
    "        bestCircles = np.append(bestCircles, circle)\n",
    "        hough[loc[0][0], loc[1][0]] = 0\n",
    "        \n",
    "    bestCircles.shape = (number, 2)\n",
    "    return bestCircles\n",
    "        "
   ]
  },
  {
   "cell_type": "code",
   "execution_count": 66,
   "metadata": {
    "collapsed": false
   },
   "outputs": [],
   "source": [
    "hb2 = np.copy(hb)\n",
    "best = storeBestCircle(hb2, 100)"
   ]
  },
  {
   "cell_type": "code",
   "execution_count": 61,
   "metadata": {
    "collapsed": false
   },
   "outputs": [],
   "source": [
    "def drawCircle(centers, r):\n",
    "    plt.clf()\n",
    "    plt.imshow(image_thresholded)\n",
    "    for center in centers:\n",
    "        circle1 = plt.Circle((center[0], center[1]),r,color='b',fill=0, linewidth=3)\n",
    "        plt.gca().add_artist(circle1)\n",
    "    plt.show()"
   ]
  },
  {
   "cell_type": "code",
   "execution_count": 62,
   "metadata": {
    "collapsed": false
   },
   "outputs": [],
   "source": [
    "drawCircle(best, 20)"
   ]
  },
  {
   "cell_type": "code",
   "execution_count": 68,
   "metadata": {
    "collapsed": false
   },
   "outputs": [
    {
     "data": {
      "text/plain": [
       "array([ 246.,   69.])"
      ]
     },
     "execution_count": 68,
     "metadata": {},
     "output_type": "execute_result"
    }
   ],
   "source": [
    "best[99]"
   ]
  },
  {
   "cell_type": "code",
   "execution_count": 23,
   "metadata": {
    "collapsed": false
   },
   "outputs": [],
   "source": [
    "def houghSansRadius(im):\n",
    "    im_diagonal = math.sqrt(im.shape[0]*im.shape[0] + im.shape[1]*im.shape[1])\n",
    "    hough_bins = np.zeros((im.shape[0], im.shape[1], int(math.ceil(im_diagonal))))\n",
    "    for x in range(im.shape[0]):\n",
    "        for y in range(im.shape[1]):\n",
    "            if im[x,y] == 1:\n",
    "                for x0 in range(im.shape[0]):\n",
    "                        for y0 in range(im.shape[1]):\n",
    "                            domain = (x-x0)*(x-x0) + (y-y0)*(y-y0)\n",
    "                            if domain < 0:\n",
    "                                continue\n",
    "                            r = math.sqrt(domain)\n",
    "                            hough_bins[x0, y0, int(round(r))] = hough_bins[x0, y0, int(round(r))] + 1\n",
    "            if x % 50 == 0 and y % 50 == 0:\n",
    "                print ([x, y])\n",
    "    return hough_bins"
   ]
  },
  {
   "cell_type": "code",
   "execution_count": 24,
   "metadata": {
    "collapsed": false
   },
   "outputs": [
    {
     "name": "stdout",
     "output_type": "stream",
     "text": [
      "[0, 0]\n",
      "[0, 50]\n",
      "[0, 100]\n",
      "[50, 0]\n",
      "[50, 50]\n",
      "[50, 100]\n",
      "[100, 0]\n",
      "[100, 50]\n",
      "[100, 100]\n"
     ]
    }
   ],
   "source": [
    "hsr = houghSansRadius(image_thresholded)"
   ]
  },
  {
   "cell_type": "code",
   "execution_count": 25,
   "metadata": {
    "collapsed": false
   },
   "outputs": [
    {
     "data": {
      "text/plain": [
       "121.0"
      ]
     },
     "execution_count": 25,
     "metadata": {},
     "output_type": "execute_result"
    }
   ],
   "source": [
    "hsr.max()"
   ]
  },
  {
   "cell_type": "code",
   "execution_count": 26,
   "metadata": {
    "collapsed": false
   },
   "outputs": [
    {
     "data": {
      "text/plain": [
       "(array([62]), array([67]), array([59]))"
      ]
     },
     "execution_count": 26,
     "metadata": {},
     "output_type": "execute_result"
    }
   ],
   "source": [
    "np.where(hsr == hsr.max())"
   ]
  },
  {
   "cell_type": "code",
   "execution_count": 27,
   "metadata": {
    "collapsed": false
   },
   "outputs": [
    {
     "data": {
      "text/plain": [
       "128"
      ]
     },
     "execution_count": 27,
     "metadata": {},
     "output_type": "execute_result"
    }
   ],
   "source": [
    "len(hsr)"
   ]
  },
  {
   "cell_type": "code",
   "execution_count": 28,
   "metadata": {
    "collapsed": false
   },
   "outputs": [
    {
     "data": {
      "text/plain": [
       "128"
      ]
     },
     "execution_count": 28,
     "metadata": {},
     "output_type": "execute_result"
    }
   ],
   "source": [
    "len(hsr[0])"
   ]
  },
  {
   "cell_type": "code",
   "execution_count": 29,
   "metadata": {
    "collapsed": false
   },
   "outputs": [
    {
     "data": {
      "text/plain": [
       "182"
      ]
     },
     "execution_count": 29,
     "metadata": {},
     "output_type": "execute_result"
    }
   ],
   "source": [
    "len(hsr[0][0])"
   ]
  },
  {
   "cell_type": "code",
   "execution_count": 30,
   "metadata": {
    "collapsed": true
   },
   "outputs": [],
   "source": [
    "def storeBestCircleRadius(hough, number):\n",
    "    bestCircles = ([])\n",
    "    \n",
    "    for x in range(number):\n",
    "        loc = np.where(hough == hough.max())\n",
    "        circle = [loc[1][0], loc[0][0], loc[2][0]]\n",
    "        bestCircles = np.append(bestCircles, circle)\n",
    "        hough[loc[0][0], loc[1][0], loc[2][0]] = 0\n",
    "        \n",
    "    bestCircles.shape = (number, 3)\n",
    "    return bestCircles"
   ]
  },
  {
   "cell_type": "code",
   "execution_count": 31,
   "metadata": {
    "collapsed": false
   },
   "outputs": [],
   "source": [
    "hsr2= np.copy(hsr)"
   ]
  },
  {
   "cell_type": "code",
   "execution_count": 32,
   "metadata": {
    "collapsed": true
   },
   "outputs": [],
   "source": [
    "best_hsr = storeBestCircleRadius(hsr, 5)"
   ]
  },
  {
   "cell_type": "code",
   "execution_count": 35,
   "metadata": {
    "collapsed": true
   },
   "outputs": [],
   "source": [
    "def drawCircleRadius(centers):\n",
    "    plt.clf()\n",
    "    plt.imshow(image_thresholded)\n",
    "    for center in centers:\n",
    "        print center\n",
    "        circle1 = plt.Circle((center[0], center[1]),center[2],color='b',fill=0, linewidth=3)\n",
    "        plt.gca().add_artist(circle1)\n",
    "    plt.show()"
   ]
  },
  {
   "cell_type": "code",
   "execution_count": 36,
   "metadata": {
    "collapsed": false
   },
   "outputs": [
    {
     "name": "stdout",
     "output_type": "stream",
     "text": [
      "[ 67.  62.  59.]\n",
      "[ 67.  63.  59.]\n",
      "[ 67.  61.  59.]\n",
      "[ 64.  54.  62.]\n",
      "[ 66.  62.  60.]\n"
     ]
    }
   ],
   "source": [
    "drawCircleRadius(best_hsr)"
   ]
  },
  {
   "cell_type": "code",
   "execution_count": 48,
   "metadata": {
    "collapsed": false
   },
   "outputs": [
    {
     "data": {
      "text/plain": [
       "array([ 0.,  0.,  0.,  0.])"
      ]
     },
     "execution_count": 48,
     "metadata": {},
     "output_type": "execute_result"
    }
   ],
   "source": [
    "np.zeros(4.)"
   ]
  },
  {
   "cell_type": "code",
   "execution_count": 49,
   "metadata": {
    "collapsed": false
   },
   "outputs": [
    {
     "data": {
      "text/plain": [
       "array([ 0.,  0.,  0.,  0.])"
      ]
     },
     "execution_count": 49,
     "metadata": {},
     "output_type": "execute_result"
    }
   ],
   "source": [
    "np.zeros(4)"
   ]
  },
  {
   "cell_type": "code",
   "execution_count": null,
   "metadata": {
    "collapsed": true
   },
   "outputs": [],
   "source": []
  }
 ],
 "metadata": {
  "kernelspec": {
   "display_name": "Python 2",
   "language": "python",
   "name": "python2"
  },
  "language_info": {
   "codemirror_mode": {
    "name": "ipython",
    "version": 2
   },
   "file_extension": ".py",
   "mimetype": "text/x-python",
   "name": "python",
   "nbconvert_exporter": "python",
   "pygments_lexer": "ipython2",
   "version": "2.7.8"
  }
 },
 "nbformat": 4,
 "nbformat_minor": 0
}
